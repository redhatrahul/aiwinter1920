{
  "nbformat": 4,
  "nbformat_minor": 0,
  "metadata": {
    "colab": {
      "name": "unsupervised.ipynb",
      "provenance": [],
      "include_colab_link": true
    },
    "kernelspec": {
      "name": "python3",
      "display_name": "Python 3"
    }
  },
  "cells": [
    {
      "cell_type": "markdown",
      "metadata": {
        "id": "view-in-github",
        "colab_type": "text"
      },
      "source": [
        "<a href=\"https://colab.research.google.com/github/redhatrahul/aiwinter1920/blob/master/unsupervised.ipynb\" target=\"_parent\"><img src=\"https://colab.research.google.com/assets/colab-badge.svg\" alt=\"Open In Colab\"/></a>"
      ]
    },
    {
      "cell_type": "code",
      "metadata": {
        "id": "6CKGGWihBrga",
        "colab_type": "code",
        "colab": {}
      },
      "source": [
        "#handling data\n",
        "import pandas as pd"
      ],
      "execution_count": 0,
      "outputs": []
    },
    {
      "cell_type": "code",
      "metadata": {
        "id": "Qa9I-5V4PuI5",
        "colab_type": "code",
        "colab": {}
      },
      "source": [
        "#loading datasets \n",
        "df=pd.read_csv('https://raw.githubusercontent.com/redhatrahul/aiwinter1920/master/mallanalysis.csv')"
      ],
      "execution_count": 0,
      "outputs": []
    },
    {
      "cell_type": "code",
      "metadata": {
        "id": "NifmqKBvQG1U",
        "colab_type": "code",
        "colab": {
          "base_uri": "https://localhost:8080/",
          "height": 204
        },
        "outputId": "53cfd4bd-b8bd-4f96-ef6f-3f0c44d88d88"
      },
      "source": [
        "#printing top 5 data\n",
        "df.head()"
      ],
      "execution_count": 8,
      "outputs": [
        {
          "output_type": "execute_result",
          "data": {
            "text/html": [
              "<div>\n",
              "<style scoped>\n",
              "    .dataframe tbody tr th:only-of-type {\n",
              "        vertical-align: middle;\n",
              "    }\n",
              "\n",
              "    .dataframe tbody tr th {\n",
              "        vertical-align: top;\n",
              "    }\n",
              "\n",
              "    .dataframe thead th {\n",
              "        text-align: right;\n",
              "    }\n",
              "</style>\n",
              "<table border=\"1\" class=\"dataframe\">\n",
              "  <thead>\n",
              "    <tr style=\"text-align: right;\">\n",
              "      <th></th>\n",
              "      <th>CustomerID</th>\n",
              "      <th>Genre</th>\n",
              "      <th>Age</th>\n",
              "      <th>Annual Income (k$)</th>\n",
              "      <th>Spending Score (1-100)</th>\n",
              "    </tr>\n",
              "  </thead>\n",
              "  <tbody>\n",
              "    <tr>\n",
              "      <th>0</th>\n",
              "      <td>1</td>\n",
              "      <td>Male</td>\n",
              "      <td>19</td>\n",
              "      <td>15</td>\n",
              "      <td>39</td>\n",
              "    </tr>\n",
              "    <tr>\n",
              "      <th>1</th>\n",
              "      <td>2</td>\n",
              "      <td>Male</td>\n",
              "      <td>21</td>\n",
              "      <td>15</td>\n",
              "      <td>81</td>\n",
              "    </tr>\n",
              "    <tr>\n",
              "      <th>2</th>\n",
              "      <td>3</td>\n",
              "      <td>Female</td>\n",
              "      <td>20</td>\n",
              "      <td>16</td>\n",
              "      <td>6</td>\n",
              "    </tr>\n",
              "    <tr>\n",
              "      <th>3</th>\n",
              "      <td>4</td>\n",
              "      <td>Female</td>\n",
              "      <td>23</td>\n",
              "      <td>16</td>\n",
              "      <td>77</td>\n",
              "    </tr>\n",
              "    <tr>\n",
              "      <th>4</th>\n",
              "      <td>5</td>\n",
              "      <td>Female</td>\n",
              "      <td>31</td>\n",
              "      <td>17</td>\n",
              "      <td>40</td>\n",
              "    </tr>\n",
              "  </tbody>\n",
              "</table>\n",
              "</div>"
            ],
            "text/plain": [
              "   CustomerID   Genre  Age  Annual Income (k$)  Spending Score (1-100)\n",
              "0           1    Male   19                  15                      39\n",
              "1           2    Male   21                  15                      81\n",
              "2           3  Female   20                  16                       6\n",
              "3           4  Female   23                  16                      77\n",
              "4           5  Female   31                  17                      40"
            ]
          },
          "metadata": {
            "tags": []
          },
          "execution_count": 8
        }
      ]
    },
    {
      "cell_type": "code",
      "metadata": {
        "id": "s2ycaK2sQQkS",
        "colab_type": "code",
        "colab": {}
      },
      "source": [
        "#by annual analysis we have to decide the right column\n",
        "useful_data=df.iloc[:,[3,4]].values"
      ],
      "execution_count": 0,
      "outputs": []
    },
    {
      "cell_type": "code",
      "metadata": {
        "id": "7pPC-W_AQ-vu",
        "colab_type": "code",
        "colab": {}
      },
      "source": [
        "#now finding no of clusters and analysing it by ELblow method\n",
        "import matplotlib.pyplot as plt\n",
        "from sklearn.cluster import KMeans"
      ],
      "execution_count": 0,
      "outputs": []
    },
    {
      "cell_type": "code",
      "metadata": {
        "id": "PgnXIbHIRPZx",
        "colab_type": "code",
        "colab": {
          "base_uri": "https://localhost:8080/",
          "height": 207
        },
        "outputId": "f6520b2c-bdc3-4bc9-fa8b-d4127db9d8b9"
      },
      "source": [
        "#analysing KMeans\n",
        "#KMeans()\n",
        "wcss=[]\n",
        "#lets assume max no of cluster is 10\n",
        "for i in range(1,11):\n",
        "  #k-means++ algo is being used\n",
        "  mykm=KMeans(n_clusters=i)\n",
        "  #now applying this state to data\n",
        "  mykm.fit(useful_data)\n",
        "  wcss.append(mykm.inertia_)#here inertia_ means --summary of formula\n",
        "  print(wcss)\n"
      ],
      "execution_count": 15,
      "outputs": [
        {
          "output_type": "stream",
          "text": [
            "[269981.28]\n",
            "[269981.28, 181363.59595959596]\n",
            "[269981.28, 181363.59595959596, 106348.37306211118]\n",
            "[269981.28, 181363.59595959596, 106348.37306211118, 73679.78903948834]\n",
            "[269981.28, 181363.59595959596, 106348.37306211118, 73679.78903948834, 44448.45544793371]\n",
            "[269981.28, 181363.59595959596, 106348.37306211118, 73679.78903948834, 44448.45544793371, 37265.86520484347]\n",
            "[269981.28, 181363.59595959596, 106348.37306211118, 73679.78903948834, 44448.45544793371, 37265.86520484347, 30227.606513152015]\n",
            "[269981.28, 181363.59595959596, 106348.37306211118, 73679.78903948834, 44448.45544793371, 37265.86520484347, 30227.606513152015, 25062.433792653777]\n",
            "[269981.28, 181363.59595959596, 106348.37306211118, 73679.78903948834, 44448.45544793371, 37265.86520484347, 30227.606513152015, 25062.433792653777, 22874.05534759358]\n",
            "[269981.28, 181363.59595959596, 106348.37306211118, 73679.78903948834, 44448.45544793371, 37265.86520484347, 30227.606513152015, 25062.433792653777, 22874.05534759358, 19704.123543147773]\n"
          ],
          "name": "stdout"
        }
      ]
    },
    {
      "cell_type": "code",
      "metadata": {
        "id": "ieXEvinPRfe9",
        "colab_type": "code",
        "colab": {
          "base_uri": "https://localhost:8080/",
          "height": 279
        },
        "outputId": "5c21285b-c63c-4906-da70-08e056f38a3f"
      },
      "source": [
        "#plotting graph no of cluster vs wcss\n",
        "plt.xlabel('no of cluster')\n",
        "plt.ylabel('wcss')\n",
        "plt.plot(range(1,11),wcss,label=\"wcss with cluster no using K-means++\")\n",
        "plt.legend()\n",
        "plt.show()"
      ],
      "execution_count": 16,
      "outputs": [
        {
          "output_type": "display_data",
          "data": {
            "image/png": "[encoded data removed]",
            "text/plain": [
              "<Figure size 432x288 with 1 Axes>"
            ]
          },
          "metadata": {
            "tags": []
          }
        }
      ]
    },
    {
      "cell_type": "code",
      "metadata": {
        "id": "gcVt4hnsVa_M",
        "colab_type": "code",
        "colab": {}
      },
      "source": [
        "#now we can assume no of cluster as 5\n",
        "#again calling no of clusters \n",
        "per_cls=KMeans(n_clusters=5) "
      ],
      "execution_count": 0,
      "outputs": []
    },
    {
      "cell_type": "code",
      "metadata": {
        "id": "zuKHgVrCWRfQ",
        "colab_type": "code",
        "colab": {}
      },
      "source": [
        "#now applying data for clustering \n",
        "predictcls=per_cls.fit_predict(useful_data)"
      ],
      "execution_count": 0,
      "outputs": []
    },
    {
      "cell_type": "code",
      "metadata": {
        "id": "ekbMjxCoXiBe",
        "colab_type": "code",
        "colab": {
          "base_uri": "https://localhost:8080/",
          "height": 295
        },
        "outputId": "d711e3c6-b166-46ca-b281-9aa8305b8c78"
      },
      "source": [
        "#now visual output\n",
        "plt.xlabel('wcss')\n",
        "plt.ylabel('no of cluster')\n",
        "plt.title('KMeans prediction')\n",
        "#for cluster 0\n",
        "#0=annual salary\n",
        "#1=score\n",
        "plt.scatter(useful_data[predictcls == 0 , 0],useful_data[predictcls == 0 , 1],label=\"smart customer\")\n",
        "plt.scatter(useful_data[predictcls == 1 , 0],useful_data[predictcls == 1 , 1],label=\"average customer\")\n",
        "plt.scatter(useful_data[predictcls == 2 , 0],useful_data[predictcls == 2 , 1],label=\"target customer\")\n",
        "plt.scatter(useful_data[predictcls == 3 , 0],useful_data[predictcls == 3 , 1],label=\"ok customer\")\n",
        "plt.scatter(useful_data[predictcls == 4 , 0],useful_data[predictcls == 4 , 1],label=\"averge customer\")\n",
        "plt.legend()\n",
        "plt.show()"
      ],
      "execution_count": 24,
      "outputs": [
        {
          "output_type": "display_data",
          "data": {
            "image/png": "[encoded data removed]",
            "text/plain": [
              "<Figure size 432x288 with 1 Axes>"
            ]
          },
          "metadata": {
            "tags": []
          }
        }
      ]
    }
  ]
}