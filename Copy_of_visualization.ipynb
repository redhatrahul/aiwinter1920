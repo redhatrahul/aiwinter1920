{
  "nbformat": 4,
  "nbformat_minor": 0,
  "metadata": {
    "colab": {
      "name": "Copy of visualization.ipynb",
      "provenance": [],
      "include_colab_link": true
    },
    "kernelspec": {
      "name": "python3",
      "display_name": "Python 3"
    }
  },
  "cells": [
    {
      "cell_type": "markdown",
      "metadata": {
        "id": "view-in-github",
        "colab_type": "text"
      },
      "source": [
        "<a href=\"https://colab.research.google.com/github/redhatrahul/aiwinter1920/blob/master/Copy_of_visualization.ipynb\" target=\"_parent\"><img src=\"https://colab.research.google.com/assets/colab-badge.svg\" alt=\"Open In Colab\"/></a>"
      ]
    },
    {
      "cell_type": "code",
      "metadata": {
        "id": "mExfk9f2WkYY",
        "colab_type": "code",
        "colab": {}
      },
      "source": [
        "import matplotlib.pyplot as plt"
      ],
      "execution_count": 0,
      "outputs": []
    },
    {
      "cell_type": "code",
      "metadata": {
        "id": "kSHdox0_W9XS",
        "colab_type": "code",
        "colab": {}
      },
      "source": [
        "x=[3,8] #x1 , x2\n",
        "x1=[2,7]\n",
        "y=[7,14] #y1 , y2\n",
        "y1=[8,15]"
      ],
      "execution_count": 0,
      "outputs": []
    },
    {
      "cell_type": "code",
      "metadata": {
        "id": "z8tMNCyOXLtd",
        "colab_type": "code",
        "outputId": "0e624b99-e801-4ca6-89c9-2d98c3d3f436",
        "colab": {
          "base_uri": "https://localhost:8080/",
          "height": 279
        }
      },
      "source": [
        "plt.xlabel(\"Time\")\n",
        "plt.ylabel(\"Distance\")\n",
        "plt.plot(x,y,label=\"speed of car\") #it will draw a line\n",
        "plt.plot(x1,y1,label=\"speed of truck\")\n",
        "plt.bar(x,y,label=\"speed of car\") #it will draw a line\n",
        "plt.bar(x1,y1,label=\"speed of truck\")\n",
        "plt.grid(color=\"green\") #to draw grids\n",
        "plt.show()"
      ],
      "execution_count": 0,
      "outputs": [
        {
          "output_type": "display_data",
          "data": {
            "image/png": "[encoded data removed]",
            "text/plain": [
              "<Figure size 432x288 with 1 Axes>"
            ]
          },
          "metadata": {
            "tags": []
          }
        }
      ]
    }
  ]
}